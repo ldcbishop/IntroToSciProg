{
 "cells": [
  {
   "cell_type": "markdown",
   "metadata": {},
   "source": [
    "# A Brief Introduction into Python\n",
    "The purpose of this notebook is to introduce to the Python scripting language. Python is an open source language that has seen use in a variety of applications. Beyond the scientific applications that you will be seeing shortly, Python is also used for commercial image analysis, data base access, and web development (just to name a few!).\n",
    "\n",
    "## The Jupyter Notebook\n",
    "This interface that you are using now is referred to as a Jupyter Notebook. It operates using interactive-Python (or IPython), which has no syntatical difference from Python aside from how the user interfaces with the code. What you are looking at right now is a Jupyter \"Markdown\" cell, which lets me put in nicely formatted text, [links to websites](https://jupyter-notebook.readthedocs.io/en/stable/examples/Notebook/Working%20With%20Markdown%20Cells.html), and mathematical formula $$x + y = 4$$\n",
    "\n",
    "Markdown cells are great for writing details about what is happening in the code. I will use these cells to detail what is happening in the \"code\" cells and talk about how to expand on the material we are looking at.\n",
    "\n",
    "## Operating Coding Cells\n",
    "Any cell in a notebook can be edited by double clicking on it. Any cell can be run by hitting __Shift__ and __Enter__ at the same time. Try running the code cell below by clicking into the cell and hitting __Shift + Enter__!"
   ]
  },
  {
   "cell_type": "code",
   "execution_count": null,
   "metadata": {},
   "outputs": [],
   "source": [
    "print \"I like to bike AND drive\""
   ]
  },
  {
   "cell_type": "markdown",
   "metadata": {},
   "source": [
    "An output cell is formed everytime a code cell is run. The number next to \"in\" indicates the order in which cells have been run, where \"In [_x_]\" is paired with \"Out[_x_]\"."
   ]
  },
  {
   "cell_type": "markdown",
   "metadata": {},
   "source": [
    "# An Introduction to Python\n",
    "Python is a rich language that has a gentle learning curve. The best way to learn Python is by choosing a goal and Googling your way through the steps in between. However, we are going to review some basics to get everyone started.\n",
    "\n",
    "Putting a '#' sign at the beginning of a line marks what follows as a \"comment\". These words are not run as code but instead\n",
    "function as notes for the end user."
   ]
  },
  {
   "cell_type": "code",
   "execution_count": null,
   "metadata": {
    "collapsed": true
   },
   "outputs": [],
   "source": [
    "# This is a comment. It will not be executed as a code but will simply exist as a note to myself.\n",
    "\n",
    "# These are variables. When run, the computer will substitute any mention of my_bike_speed with a 4 and my_car_speed with a 2\n",
    "my_bike_speed = 2.0\n",
    "my_car_speed = 20\n"
   ]
  },
  {
   "cell_type": "markdown",
   "metadata": {},
   "source": [
    "Whenever I use the variables my_bike_speed or my_car_speed, Python recognizes that I am using the values 4 and 2 respectively. There are very few exceptions to what can be a variable name. Two big rules: No spaces in the name and no starting with numbers.\n",
    "\n",
    "Sometimes it is useful to see what a variables value is or perform operations on the variable to relay information. If I use the Python\n",
    "keyword _print_, I can do the following."
   ]
  },
  {
   "cell_type": "code",
   "execution_count": null,
   "metadata": {},
   "outputs": [],
   "source": [
    "print 'My bike speed is ', my_bike_speed / my_car_speed, ' times my car speed'"
   ]
  },
  {
   "cell_type": "markdown",
   "metadata": {},
   "source": [
    "Print translates whatever follows it into a text form that can be output to\n",
    "the screen. If we add words inside of \" \", we can have the computer say more.\n",
    "\n",
    "### Mid-Lesson Question\n",
    "Create a variable called \"your_bike_speed\" and set it to an numerical value. Then, create a variable called \"your_car_speed\" with another numerical value. Finally, craft a statement similar to the code above to compare the two!"
   ]
  },
  {
   "cell_type": "code",
   "execution_count": null,
   "metadata": {
    "collapsed": true
   },
   "outputs": [],
   "source": []
  },
  {
   "cell_type": "markdown",
   "metadata": {},
   "source": [
    "Printing is useful when you need to confirm the value of something in between coding statements. Now, let's try something more\n",
    "advanced. Sometimes we need our variables to represent more than one value. In Python, these are lists.\n",
    "\n",
    "# Lists\n",
    "\n",
    "We can make a list by enclosing several different variables or values in square brackets, like so..."
   ]
  },
  {
   "cell_type": "code",
   "execution_count": null,
   "metadata": {
    "scrolled": true
   },
   "outputs": [],
   "source": [
    "# Lists let us store several variables together and reference them in terms of the list.\n",
    "transportation_brands = ['Schwin', 'Honda', 'Toyota', 'Huffy']\n",
    "print \"I own a \", transportation_brands[2], '.'\n",
    "\n",
    "# len will tell us how many items are in our list.\n",
    "print \"Our list has \", len(transportation_brands), ' entries.'\n",
    "\n",
    "# We can access specific items in our list like so:\n",
    "print \"The value at index 3 is \", transportation_brands[3]\n",
    "\n",
    "# Keep in mind that Python uses 0-based indexing. We get the first item at index 0, second item at index 1, and so on..."
   ]
  },
  {
   "cell_type": "markdown",
   "metadata": {},
   "source": [
    "Single items in a list can be accessed by \"indexing\". The valid indices of a list go from 0 - length(list)-1.\n",
    "\n",
    "Here's a training exercise: Print out the two _car_ brands from the previous list and have them reported as output in the cell below."
   ]
  },
  {
   "cell_type": "code",
   "execution_count": null,
   "metadata": {},
   "outputs": [],
   "source": []
  },
  {
   "cell_type": "markdown",
   "metadata": {},
   "source": [
    "## Automation via loops\n",
    "All of these methods are well and good, but programming is all about automation. How do we go about writing a code to teach a computer the nuance of what we want to happen?\n",
    "\n",
    "Two main items help us do this:\n",
    "- Loops\n",
    "- If-Else Statements\n",
    "\n",
    "Using these constructs, we can have the computer repeat some lines of code a set number of times or make decisions based on logic that we assign."
   ]
  },
  {
   "cell_type": "markdown",
   "metadata": {},
   "source": [
    "Loops have a general structure. The line starts with the keyword 'for', is given an _iterative_ variable (any variable name works!), a list to iterate over, and a terminating semicolon. For example:\n",
    "```python\n",
    "# Range produces a list containing the number up to n - 1. For n = 5, range produces [0,1,2,3,4]\n",
    "for i in range(5):\n",
    "    # Do something\n",
    "```\n",
    "Where everything indented after the 'for' declaration is run repeatedly."
   ]
  },
  {
   "cell_type": "code",
   "execution_count": null,
   "metadata": {},
   "outputs": [],
   "source": [
    "# Below is a simple definition of a 'for' loop. We want to walk through every item described in our list and print what is at that position.\n",
    "for i in range(len(transportation_brands)):\n",
    "    print \"Our index is i = \", i, \"and the value of transportation_brands at that index is \", transportation_brands[i]\n",
    "# When run, the loop will move one-by-one down the list and repeat whatever code is indented below it."
   ]
  },
  {
   "cell_type": "code",
   "execution_count": null,
   "metadata": {},
   "outputs": [],
   "source": [
    "# We can hand a loop any list and have it iterate through the values. If we hand a loop the list, we can have it iterate through the values without\n",
    "# using an index.\n",
    "names = ['Prius', 'Accord', 'Tucson', 'Explorer', 'F150']\n",
    "for j in names:\n",
    "    print j"
   ]
  },
  {
   "cell_type": "markdown",
   "metadata": {},
   "source": [
    "## If, Else-If, and Else statements\n",
    "Sometimes we want to make decisions based on a pre-determined logic. We do this with an 'if' statement. An 'if' statement starts with the keyword 'if', is followed by some condition that evaluates to 'True' or 'False', and then is terminated with a :\n",
    "```python\n",
    "if a == 0:\n",
    "    print 'Oh my, a is 0!'\n",
    "   ```\n",
    "We can expand our logical control through inclusion of the 'elif' statement. elif (pronounced else-if) follow any if statement and require that all previous if and elif statements have failed to run. \n",
    "```python\n",
    "elif a <= 25:\n",
    "    print 'a is less than 25 but not zero!'\n",
    "   ```\n",
    "   \n",
    "Finally, an 'else' statement following an if and several elifs runs if nothing else has worked. else statments have no conditional statements. These will catch everything that is not covered by the proceedign logical statements\n",
    "\n",
    "```python\n",
    "else:\n",
    "    print 'a is not 0, nor less than or equal to 25'\n",
    "    ```"
   ]
  },
  {
   "cell_type": "code",
   "execution_count": null,
   "metadata": {},
   "outputs": [],
   "source": [
    "car_brands = ['Toyota', 'Honda', 'Ford', 'Chrysler']\n",
    "bike_brands = ['Huffy', 'Schwin', 'Cannondale']\n",
    "transportation_brands = ['Toyota', 'Honda', 'Ford', 'Chrysler', 'Huffy', 'Schwin', 'Cannondale']\n",
    "\n",
    "index = 2 # Pick an index that relates to either list\n",
    "\n",
    "brand_at_index = transportation_brands[index]\n",
    "\n",
    "# Check if the brand_at_index is a car or a bike\n",
    "if brand_at_index in car_brands:\n",
    "    # We can nest if statements inside of if statements if we want to be more specific\n",
    "    if brand_at_index in ['Toyota', 'Honda']:\n",
    "        print brand_at_index, 'is a foreign made brand.'\n",
    "    else:\n",
    "        print brand_at_index, 'is an American made brand.'\n",
    "# If we are not a car, then we must be a bike brand.\n",
    "\n",
    "# See if this listed item is in the bike brand list AND is a Schwin\n",
    "elif brand_at_index in bike_brands and brand_at_index == 'Schwin':\n",
    "    print 'This is a Schwin Bike!'\n",
    "\n",
    "# This elif would usually run for all bike brands, but if the brand is a Schwin and the first if succeeds, this one will not.\n",
    "elif brand_at_index in bike_brands:\n",
    "    print 'This is some form of bike!'\n",
    "# Else is a catch all. If all preciding ifs and elifs fail, then whatever is contained in else will run.\n",
    "else:\n",
    "    print 'Guess we are walking then.'"
   ]
  },
  {
   "cell_type": "markdown",
   "metadata": {},
   "source": [
    "An 'if' function does not need to have any accompanying if, elif, or else statements, they are just helpful for establishing more complicated logic.\n",
    "\n",
    "### An aside:\n",
    "Python has a wide range of mathematical operators outside of standard + (Addition), - (Subtraction), \\* (Multiply), \\/ (Divide),  there is also \\** (exponentiation) as well as % ([modulus](https://stackoverflow.com/questions/4432208/what-is-the-result-of-in-python)).\n",
    "\n",
    "## Definition of Functions\n",
    "\n",
    "Sometimes you want to perform the same set of code several times over without typing it out directly. This set of code is what we call a function. \n",
    "\n",
    "Functions have a very regular nomenclature. Each function starts the definition with the key word **def** followed by the function name and a pair of parentheses that contain the _arguments_ of the function. Arguments are user provided information that influences the code accessed inside.\n",
    "\n",
    "Below is a sample function that generates a second order polynomial of the form:\n",
    "$$\n",
    "A x^2 + B x + C\n",
    "$$"
   ]
  },
  {
   "cell_type": "code",
   "execution_count": null,
   "metadata": {
    "collapsed": true
   },
   "outputs": [],
   "source": [
    "# The following function produces a parabolic function given inputs for each \n",
    "def secondOrderPolynomial(x, A, B, C):\n",
    "    output = A * x**2 + B * x + C\n",
    "    \n",
    "    # Most functions expect the user to send something outside of the function. The keyword \"return\" tells the computer\n",
    "    # what the output of the function is.\n",
    "    return output"
   ]
  },
  {
   "cell_type": "markdown",
   "metadata": {},
   "source": [
    "Now that we have the function defined, lets try handing it a value."
   ]
  },
  {
   "cell_type": "code",
   "execution_count": null,
   "metadata": {},
   "outputs": [],
   "source": [
    "print secondOrderPolynomial(4, 3, 2, 1) # The solution for 3(4)^2 + 2(4) + 1"
   ]
  },
  {
   "cell_type": "markdown",
   "metadata": {},
   "source": [
    "Singular values are not as descriptive as full data series. Let's try graphing this function over a wider range of values. To do this, we are going to utilize two very common Python scientific packages: NumPy and MatPlotLib.\n",
    "\n",
    "Below is an _import_ call which tells the computer to bring pre-written numpy functions into our notebook and make them available. The keyword _import_ tells the kernel (the code that runs our code!) to locate the python functions listed under the desired package. The keyword _as_ establishes a short hand way for us to access the packages. In this case, we use np for numpy and plt for matplotlib."
   ]
  },
  {
   "cell_type": "code",
   "execution_count": null,
   "metadata": {
    "collapsed": true
   },
   "outputs": [],
   "source": [
    "import numpy as np # Import numpy and give it the name np\n",
    "import matplotlib.pyplot as plt # Import matplotlib and give it the name plt"
   ]
  },
  {
   "cell_type": "code",
   "execution_count": null,
   "metadata": {},
   "outputs": [],
   "source": [
    "# Let's start by making an input vector. Here, we use the dot notation to call the arange() function from numpy (np)\n",
    "x = np.arange(-8, 9)\n",
    "print x"
   ]
  },
  {
   "cell_type": "code",
   "execution_count": null,
   "metadata": {},
   "outputs": [],
   "source": [
    "# Let's hand our new input vector into our function\n",
    "y = secondOrderPolynomial(x, 1, 0, 1)\n",
    "print y"
   ]
  },
  {
   "cell_type": "code",
   "execution_count": null,
   "metadata": {},
   "outputs": [],
   "source": [
    "# Numerical outputs are never that interesting. Instead, let's use matplotlib to visualize our data.\n",
    "fig = plt.figure() # Creating a figure frame using plt\n",
    "plt.plot(x, y, color = 'Blue', label = 'f(x)')\n",
    "plt.legend(frameon = False)\n",
    "plt.xlabel('x')\n",
    "plt.ylabel('y')\n",
    "plt.show()"
   ]
  },
  {
   "cell_type": "markdown",
   "metadata": {},
   "source": [
    "## Creating Classes\n",
    "Sometimes it is valuable to have multiple values stored in one \"container\". To do this, we create a _class_ in Python. Below you will see a very basic definition of a class. Within the class, we define three variables that every instance of myClass will have."
   ]
  },
  {
   "cell_type": "code",
   "execution_count": null,
   "metadata": {
    "collapsed": true
   },
   "outputs": [],
   "source": [
    "# Definition of the class with its proper name\n",
    "class myClass:\n",
    "    \n",
    "    # Some variables to be associated with the class\n",
    "    x = 0\n",
    "    y = 5\n",
    "    name = 'Programmer 001' # Default name for myClass\n",
    "    \n",
    "    def __init__(self):\n",
    "        pass\n",
    "    \n",
    "    def sayMyName(self):\n",
    "        print self.name\n",
    "        \n",
    "    def doSomeMath(self, op):\n",
    "        if op == '+':\n",
    "            return self.x + self.y\n",
    "        elif op == '-':\n",
    "            return self.x - self.y\n",
    "        elif op == '*':\n",
    "            return self.x * self.y\n",
    "        elif op == '/':\n",
    "            return self.x / self.y\n",
    "        else:\n",
    "            print \"I don't think I know that type of math!\"\n",
    "            return None\n",
    "    \n",
    "    def setX(self, val):\n",
    "        self.x = val\n",
    "    \n",
    "    def setY(self, val):\n",
    "        self.y = val\n",
    "        \n",
    "    def renameMe(self, new_name = 'Fred'):\n",
    "        self.name = new_name\n",
    "        \n",
    "    def talkAboutYourself(self):\n",
    "        print 'My name is '+self.name+' and I have an x value of '+str(self.x)+' and y value of '+str(self.y)"
   ]
  },
  {
   "cell_type": "markdown",
   "metadata": {},
   "source": [
    "Now that we have a class definition, let's make an _instance_ of myClass"
   ]
  },
  {
   "cell_type": "code",
   "execution_count": null,
   "metadata": {},
   "outputs": [],
   "source": [
    "SS101 = myClass()\n",
    "SS101.sayMyName()"
   ]
  },
  {
   "cell_type": "markdown",
   "metadata": {},
   "source": [
    "We now have a functional version of myClass with methods we can call. Let's have myClass do some math."
   ]
  },
  {
   "cell_type": "code",
   "execution_count": null,
   "metadata": {},
   "outputs": [],
   "source": [
    "SS101.doSomeMath('-')"
   ]
  },
  {
   "cell_type": "markdown",
   "metadata": {},
   "source": [
    "What if we want to use other values than $x = 0$ and $y = 5$? Let's use the set methods we have designed to change them!"
   ]
  },
  {
   "cell_type": "code",
   "execution_count": null,
   "metadata": {},
   "outputs": [],
   "source": [
    "SS101.setX(3)\n",
    "SS101.setY(4)\n",
    "SS101.doSomeMath('*')"
   ]
  },
  {
   "cell_type": "markdown",
   "metadata": {},
   "source": [
    "What if we need more than one class to achieve our goal? We just create another instance of myClass with a new variable name!"
   ]
  },
  {
   "cell_type": "code",
   "execution_count": null,
   "metadata": {},
   "outputs": [],
   "source": [
    "SS101.renameMe('Senior Programmer')\n",
    "SS102 = myClass()\n",
    "SS101.talkAboutYourself()\n",
    "SS102.talkAboutYourself()"
   ]
  },
  {
   "cell_type": "markdown",
   "metadata": {},
   "source": [
    "We now have two separate instances of my class. This is useful for letting us have abstract methods of working with grouped variables. One methodology of working with variables can be built to handle all instances of my class without giving new variable names for each set of x's and y's.\n",
    "\n",
    "### A sidenote on '.' notation\n",
    "_Dot_ notation in Python tells the computer to run the method in the context of something else. For the examples we saw with myClass, we told the computer to run the methods \"talkAboutYourself()\" in the context of myClass. We will use _dot_ notation in several cases to reference specific versions of methods we will use or to access variables present in the classes we construct.\n",
    "\n",
    "## Putting it altogether\n",
    "The goal of this notebook was to introduce the bare bones constructs of Python that we will use to form the experimental logic seen in later notebooks. In it, we have discussed:\n",
    "- Variables\n",
    "- Lists\n",
    "- Loops\n",
    "- Conditionals (if, elif, else)\n",
    "- Methods\n",
    "- Classes\n",
    "\n",
    "I have written a couple exercises that will let you practice the times we have discussed above. The next cell will define a tester class that I have written that will grade your inputs. Using the dot nomenclature above, you will call a testing method for each of your inputs. This will look like:\n",
    "```python\n",
    "examiner.testQuestionX(your_input_here)\n",
    "```\n",
    "where X is the arabic numeral of the question you are working on."
   ]
  },
  {
   "cell_type": "code",
   "execution_count": null,
   "metadata": {},
   "outputs": [],
   "source": [
    "%load_ext autoreload\n",
    "%autoreload 2\n",
    "from examiner import *\n",
    "examiner = Tester()"
   ]
  },
  {
   "cell_type": "markdown",
   "metadata": {},
   "source": [
    "### Question 1:\n",
    "Create a list that has the integer 5 in the 0th position, the word 'yes' in the 1st position, and the decimal 2.0 in the 2nd position."
   ]
  },
  {
   "cell_type": "code",
   "execution_count": null,
   "metadata": {},
   "outputs": [],
   "source": []
  },
  {
   "cell_type": "markdown",
   "metadata": {},
   "source": [
    "### Question 2:\n",
    "I have created a list of numbers called 'numbers'. Loop over each value in 'numbers' with a for loop and submit the sum. "
   ]
  },
  {
   "cell_type": "code",
   "execution_count": null,
   "metadata": {},
   "outputs": [],
   "source": []
  },
  {
   "cell_type": "markdown",
   "metadata": {},
   "source": [
    "### Question 3:\n",
    "Using a similar format as the previous question, introduce an if statement into the loop to only add odd values to the sum"
   ]
  },
  {
   "cell_type": "code",
   "execution_count": null,
   "metadata": {},
   "outputs": [],
   "source": []
  },
  {
   "cell_type": "markdown",
   "metadata": {},
   "source": [
    "### Question 4:\n",
    "Expand the previous code to create a second sum that only includes numbers that are perfect squares BUT are not even. Enter the two sums into examiner using the following format.\n",
    "```python\n",
    "examiner.textQuestion(this_sum, that_sum)\n",
    "```"
   ]
  },
  {
   "cell_type": "code",
   "execution_count": null,
   "metadata": {},
   "outputs": [],
   "source": []
  },
  {
   "cell_type": "markdown",
   "metadata": {},
   "source": [
    "### Question 5:\n",
    "Using a similar format to the previous, write a for loop that returns the sum of all even values in numbers divided by the sum of all odd values in numbers. Use a method from numpy to round to the 100th's place."
   ]
  },
  {
   "cell_type": "code",
   "execution_count": null,
   "metadata": {},
   "outputs": [],
   "source": []
  },
  {
   "cell_type": "markdown",
   "metadata": {},
   "source": [
    "### Question 6:\n",
    "Turn your code from question 5 into a _method_, such that you can take any arbitrary list of numbers and return the sum of the evens and the sum of the odds. Name this method evenAndodds.\n",
    "\n",
    "You can hand a method over as a variable by doing the following:\n",
    "```python\n",
    "def evenAndodds():\n",
    "    # do something here\n",
    "\n",
    "a = myFunction # Note the lack of parentheses!\n",
    "examiner.testQuestionX(a)\n",
    "```"
   ]
  },
  {
   "cell_type": "code",
   "execution_count": null,
   "metadata": {},
   "outputs": [],
   "source": []
  },
  {
   "cell_type": "markdown",
   "metadata": {},
   "source": [
    "### Question 7:\n",
    "Create a class that contains your evenAndodds method."
   ]
  },
  {
   "cell_type": "code",
   "execution_count": null,
   "metadata": {},
   "outputs": [],
   "source": []
  },
  {
   "cell_type": "markdown",
   "metadata": {},
   "source": [
    "### Final Question:\n",
    "Create a class with attributes x, y, and z and two methods titles AreaOfCircle (that calculates the area of a circle defined by the radius (y-x) and VolumeOfCone (that calculate the volume of a cone given the radius (y-x) and height z. Neither method should accept any arguments so the only item in the parenthesis should be \"self\". Use $\\pi = 3.14$.\n",
    "\n",
    "Similar to Question 2, you can pass a class into another method:\n",
    "```Python\n",
    "class myClass:\n",
    "    # Do something\n",
    "   \n",
    "a = myClass()\n",
    "examiner.testQuestion8(a)\n",
    "```"
   ]
  },
  {
   "cell_type": "code",
   "execution_count": null,
   "metadata": {
    "collapsed": true
   },
   "outputs": [],
   "source": []
  },
  {
   "cell_type": "markdown",
   "metadata": {},
   "source": [
    "## Some closing remarks\n",
    "Learning to programming is best done through doing. Here, I have given a minor taste of some of the things we will be discussing in later notebooks. The absolute best resource you can use is Google. Many answer can be found by simply searching _this thing I want to do_ + python and copying the style found in that search result. Do not be afraid to try new things! Run a code, watch it fail, then try again! Google the error and learn about what might have gone wrong! Learning to code is like lifting weights: the pain of learning the \"right\" way to do it is the best educational tool available."
   ]
  }
 ],
 "metadata": {
  "kernelspec": {
   "display_name": "Python 2",
   "language": "python",
   "name": "python2"
  },
  "language_info": {
   "codemirror_mode": {
    "name": "ipython",
    "version": 2
   },
   "file_extension": ".py",
   "mimetype": "text/x-python",
   "name": "python",
   "nbconvert_exporter": "python",
   "pygments_lexer": "ipython2",
   "version": "2.7.13"
  }
 },
 "nbformat": 4,
 "nbformat_minor": 2
}
