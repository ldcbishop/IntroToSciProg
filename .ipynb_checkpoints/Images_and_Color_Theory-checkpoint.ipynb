{
 "cells": [
  {
   "cell_type": "markdown",
   "metadata": {},
   "source": [
    "# Image Handling\n",
    "The introduction of cell phones has made digital images a ubiqioutous object in everyone's life. Though some may long for the days of developed film, there are many benefits to switching to digital image processing. The goal of this notebook is to familiarize you with a hallmark of digital images: separating image color into separate digital channels.\n",
    "\n",
    "Reliance on different colors to convey information is a standard practice in science. By understanding how colors are stored in an image and how we can manipulate the visualization of those colors, we will be able to simulate different spectroscopic practices and eventually combine these with a home-built Raspberry Pi instrument."
   ]
  },
  {
   "cell_type": "code",
   "execution_count": null,
   "metadata": {},
   "outputs": [],
   "source": [
    "# Imports and settings to make the rest of the notebook work. Don't worry about changing these.\n",
    "%matplotlib inline\n",
    "%load_ext autoreload\n",
    "%autoreload 2\n",
    "import numpy as np\n",
    "import matplotlib.pyplot as plt\n",
    "import skimage.io as io\n",
    "\n",
    "from skimage.color import rgb2gray\n",
    "from imageProc import *"
   ]
  },
  {
   "cell_type": "markdown",
   "metadata": {},
   "source": [
    "Let's consider a familiar photo: the Astro's Logo!"
   ]
  },
  {
   "cell_type": "markdown",
   "metadata": {},
   "source": [
    "![Go 'stros!](astros_logo.png)"
   ]
  },
  {
   "cell_type": "markdown",
   "metadata": {},
   "source": [
    "The Astro's logo is built on the colors orange, blue, and white. However, that is not how our computers store that information. \n",
    "\n",
    "Two different color mapping strategies exist for rendering colors: RGB (red, green, blue) and CMYK (Cyan, Magenta, Yellow, and Black). "
   ]
  },
  {
   "cell_type": "code",
   "execution_count": null,
   "metadata": {},
   "outputs": [],
   "source": [
    "# Feel free to substitute any image you are interesed in using. I offere the astros logo below simply as an example\n",
    "image_url = \"astros_logo.png\"\n",
    "my_im_proc = ImageProcessor(image_url)\n",
    "\n",
    "# Generate a figure and axes to graph the different versions of the Astro's Logo\n",
    "fig, axs = plt.subplots(nrows=1, ncols=3, figsize=(15,5))\n",
    "# Iterate through all three color channels: Red, Green, and Blue\n",
    "channels = my_im_proc.splitColors(style = 'RGB')\n",
    "for c, ax in zip(range(3), axs):\n",
    "    ax.imshow(channels[c])\n",
    "    ax.set_axis_off()"
   ]
  },
  {
   "cell_type": "code",
   "execution_count": null,
   "metadata": {},
   "outputs": [],
   "source": [
    "fig, axs = plt.subplots(nrows=1, ncols=3, figsize=(15,5))\n",
    "channels = my_im_proc.splitColors(style = 'CMYK')\n",
    "for c, ax in zip(range(3), axs):\n",
    "    ax.imshow(channels[c])\n",
    "    ax.set_axis_off()"
   ]
  },
  {
   "cell_type": "markdown",
   "metadata": {},
   "source": [
    "Manipulation of color channels is the primary pathway to building the image filters that have made services like instagram so popular. For a quick tutorial on how to make your own color [filter](https://www.practicepython.org/blog/2016/12/20/instagram-filters-python.html)!"
   ]
  },
  {
   "cell_type": "markdown",
   "metadata": {},
   "source": [
    "Breaking pictures down into their subsequent color levels can help highlight details that are otherwise lost in the agglomeration of all colors. Our goal in science is often to isolate that desired bit of information (the \"signal\") from the rest of the photo (the \"noise\").\n",
    "\n",
    "# Image Analyses made possible via Color Channel assessment.\n",
    "Digital images are simply matrices of numbers that are translated into colored pixel maps. Because of this simplicity, there are many types of programmatic alterations that we can make to an image. These types of image manipulations are commonplace in both science and other professions. Using computers, we can:\n",
    "- denoise (clear-up) a messy image ![Messy Image](noise_denoise.png)\n",
    "- detection of edges in images ![Edge Detection](houston_edges.jpg)\n",
    "- hide one image inside of another ![Merged Images](merging_images.png)"
   ]
  },
  {
   "cell_type": "markdown",
   "metadata": {},
   "source": [
    "# Cleaning up a Messy Image\n",
    "Messy images are a common problem in both scientific and consumer communities. Many different denoising algorithms exist, each with a variation on how lost information is interpolated and recovered. Here, we are going to offer up a brief description of the process and offer an opportunity to denoise an image of your own."
   ]
  },
  {
   "cell_type": "code",
   "execution_count": null,
   "metadata": {
    "collapsed": true
   },
   "outputs": [],
   "source": [
    "# If you want to use your own image, feel free to substitute your own file path below\n",
    "img_file_path = './houston_skyline_2.jpg'\n",
    "\n",
    "# Image processor will be our primary way of handling images.\n",
    "my_img_proc = ImageProcessor(img_file_path)"
   ]
  },
  {
   "cell_type": "code",
   "execution_count": null,
   "metadata": {},
   "outputs": [],
   "source": [
    "# We are going to add some \"noise\" to our image first.\n",
    "noisy = my_img_proc.makeNoisyImage()\n",
    "plt.imshow(noisy)\n",
    "plt.axis('off')"
   ]
  },
  {
   "cell_type": "markdown",
   "metadata": {},
   "source": [
    "Now that we have introduced some level of noise to the image, let's talk about how we can fill in this missing informaiton and clean up the image.\n",
    "\n",
    "There are many different denoising protocols that can be used. Today, we are going to talk about using the Total Variation filter. We use this filter as it is excellent at removing overall noise while maintaining the original edges of the image. It does this by reducing the variance between pixel values. You can find out the nitty-gritty details of this method [here](https://en.wikipedia.org/wiki/Total_variation_denoising)."
   ]
  },
  {
   "cell_type": "code",
   "execution_count": null,
   "metadata": {
    "scrolled": true
   },
   "outputs": [],
   "source": [
    "denoised_image = my_img_proc.imageDenoise()\n",
    "fig, axs = plt.subplots(nrows=1, ncols=3, figsize=(21,7))\n",
    "axs[0].imshow(my_img_proc.returnImage())\n",
    "axs[1].imshow(noisy)\n",
    "axs[2].imshow(denoised_image)"
   ]
  },
  {
   "cell_type": "markdown",
   "metadata": {},
   "source": [
    "In denoising the image, we have succesfully removed much of the random fuzz that we introduced into the image. However, what we have gained in clarity we have lost in vibrance and sharpness. The color depth has disappeared but we now have clean lines for all of the buildings.\n",
    "\n",
    "# Edge Detection\n",
    "Sometimes we want to isolate separate continuous regions in an image, like the edges of a lake, the outline of a canyon, or the veins in someone's arms. To do this, we dip again into our color information. Using this digital information, we can isolate the boundaries in the image and highlight where changes are happening most rapidly.\n",
    "\n",
    "We will look at two different edge detection types: [Canny](https://towardsdatascience.com/canny-edge-detection-step-by-step-in-python-computer-vision-b49c3a2d8123) and [Sobel](https://en.wikipedia.org/wiki/Sobel_operator)"
   ]
  },
  {
   "cell_type": "code",
   "execution_count": null,
   "metadata": {},
   "outputs": [],
   "source": [
    "# Enter you custom image under im_url\n",
    "im_url = 'houston_skyline_2.jpg'\n",
    "sobel_im = my_img_proc.edgeDetection(im_url = im_url, e_type = 'Sobel')\n",
    "canny_im = my_img_proc.edgeDetection(im_url = im_url, e_type = 'Canny')"
   ]
  },
  {
   "cell_type": "code",
   "execution_count": null,
   "metadata": {
    "scrolled": true
   },
   "outputs": [],
   "source": [
    "fig, axs = plt.subplots(nrows=1, ncols=2, sharey=True, figsize=(18,9))\n",
    "axs[0].imshow(canny_im)\n",
    "axs[0].axis(\"off\")\n",
    "axs[0].set_title('Canny')\n",
    "axs[1].imshow(sobel_im)\n",
    "axs[1].axis(\"off\")\n",
    "axs[1].set_title('Sobel')"
   ]
  },
  {
   "cell_type": "markdown",
   "metadata": {},
   "source": [
    "Different edge measures yield different results. Exploratory data analysis is key to picking out what is the best methodology for isolating the key features desired. \n",
    "\n",
    "# Steganography - The art of hiding an image in another image.\n",
    "One interesting aspect of digital images is to hide one image in the slight color variations of another. The process, well detailed on [towardsDataScience](https://towardsdatascience.com/steganography-hiding-an-image-inside-another-77ca66b2acb1), involves storing the most significant color variations from one image in the least significant information of another."
   ]
  },
  {
   "cell_type": "code",
   "execution_count": null,
   "metadata": {
    "scrolled": true
   },
   "outputs": [],
   "source": [
    "# First we want to declare our host image. This is the image that will be visible after concealment.\n",
    "host_image_url = './houston_skyline_2.jpg'\n",
    "# This is the image that we will hide inside of the host image. Important note: Both images must have the same size.\n",
    "hidden_image_url = './ny_skyline_2.jpg'\n",
    "\n",
    "\n",
    "my_im_proc = ImageProcessor(host_image_url)\n",
    "# This method merges our images\n",
    "merged_image = my_im_proc.hideMyImage(image_url=hidden_image_url, save = False)\n",
    "# This method retrieves the hidden image out of the host.\n",
    "unmerged_image = my_im_proc.revealMyImage(image_url='./merged.png', save = False)"
   ]
  },
  {
   "cell_type": "code",
   "execution_count": null,
   "metadata": {},
   "outputs": [],
   "source": [
    "fig, axs = plt.subplots(nrows=2, ncols=2, figsize=(18,18))\n",
    "axs[0,0].imshow(plt.imread(host_image_url))\n",
    "axs[0,0].set_title('Host Image: Houston')\n",
    "axs[0,0].axis('off')\n",
    "axs[0,1].imshow(plt.imread(hidden_image_url))\n",
    "axs[0,1].set_title('Hidden Image: NYC')\n",
    "axs[0,1].axis('off')\n",
    "axs[1,0].imshow(merged_image)\n",
    "axs[1,0].set_title('Merged Skylines')\n",
    "axs[1,0].axis('off')\n",
    "axs[1,1].imshow(unmerged_image)\n",
    "axs[1,1].set_title('NYC Retrieved')\n",
    "axs[1,1].axis('off')\n",
    "plt.tight_layout()"
   ]
  },
  {
   "cell_type": "markdown",
   "metadata": {},
   "source": [
    "# Conclusion\n",
    "In this notebook, we have discussed several image modifications that one can perform via manipulation of the color channels in an image. Further, we have provided a pythonic framework that can allow an end user to peform these same manipulations with an image of their choosing. I encourage those interested to continue investigating the content we have discussed, both online and by looking at the accompanying python file, imagProc.py, where all the source code is stored."
   ]
  },
  {
   "cell_type": "code",
   "execution_count": null,
   "metadata": {
    "collapsed": true
   },
   "outputs": [],
   "source": []
  }
 ],
 "metadata": {
  "kernelspec": {
   "display_name": "Python 2",
   "language": "python",
   "name": "python2"
  },
  "language_info": {
   "codemirror_mode": {
    "name": "ipython",
    "version": 2
   },
   "file_extension": ".py",
   "mimetype": "text/x-python",
   "name": "python",
   "nbconvert_exporter": "python",
   "pygments_lexer": "ipython2",
   "version": "2.7.13"
  }
 },
 "nbformat": 4,
 "nbformat_minor": 2
}
